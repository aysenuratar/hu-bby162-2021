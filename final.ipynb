{
  "nbformat": 4,
  "nbformat_minor": 0,
  "metadata": {
    "colab": {
      "name": "final.ipynb",
      "provenance": [],
      "mount_file_id": "10p1D2_IpchojSk30mmcujG6vdwjQ-yKQ",
      "authorship_tag": "ABX9TyM7XE0Ttx39hYxoX3u05fTf",
      "include_colab_link": true
    },
    "kernelspec": {
      "name": "python3",
      "display_name": "Python 3"
    },
    "language_info": {
      "name": "python"
    }
  },
  "cells": [
    {
      "cell_type": "markdown",
      "metadata": {
        "id": "view-in-github",
        "colab_type": "text"
      },
      "source": [
        "<a href=\"https://colab.research.google.com/github/aysenuratar/hu-bby162-2021/blob/main/final.ipynb\" target=\"_parent\"><img src=\"https://colab.research.google.com/assets/colab-badge.svg\" alt=\"Open In Colab\"/></a>"
      ]
    },
    {
      "cell_type": "markdown",
      "metadata": {
        "id": "oxL_uEsKeGog"
      },
      "source": [
        "FİNAL PROJESİ"
      ]
    },
    {
      "cell_type": "code",
      "metadata": {
        "colab": {
          "base_uri": "https://localhost:8080/"
        },
        "id": "YX0K3WZMIZor",
        "outputId": "c3fccf90-a460-426e-88c5-2a9c02887766"
      },
      "source": [
        "# Kütüphane Katalog Otomasyonu\n",
        "# Veri Tabanı: /content/drive/MyDrive/Colab Notebooks/HU-BBY162-2021/final.txt\n",
        "\n",
        "dosya = \"/content/drive/MyDrive/Colab Notebooks/HU-BBY162-2021/final.txt\"\n",
        "\n",
        "print(\":::: Kütüphane Katalog Otomasyonuna Hoşgeldiniz ::::\")\n",
        "\n",
        "def eserListesi():\n",
        "  f = open(dosya, \"r\")\n",
        "  for line in f.readlines():\n",
        "    print(line)\n",
        "  f.close()\n",
        "\n",
        "def eserEkle():\n",
        "  print(\"Lütfen yeni eklenen eserin bilgilerini sırasıyla giriniz.\")\n",
        "  eserAdi = input(\"Eser adını giriniz: \")\n",
        "  yazarAdi = input(\"Yazar adını giriniz: \")\n",
        "  yayinevi = input(\"Yayınevi bilgisi giriniz: \")\n",
        "  basimTarihi = input(\"Basım tarihi bilgisi giriniz: \")\n",
        "  isbn = input(\"ISBN numarası giriniz: \")\n",
        " \n",
        "  f = open(dosya, \"a\")\n",
        "  f.write(eserAdi + \", \" + yazarAdi + \", \" + yayinevi + \", \" + basimTarihi + \", \" + isbn + \"\\n\")\n",
        "  print(\" <<< Yeni eser başarılı bir şekilde kaydedildi. >>> \")\n",
        "  f.close()\n",
        "\n",
        "def menu():\n",
        "  while True:\n",
        "    print(\"1 - Katalogda kayıtlı olan eserleri listele.\")\n",
        "    print(\"2 - Yeni eser kaydı oluştur.\")\n",
        "    print(\"4 - Katalog otomasyonundan çıkış yap.\")\n",
        "    secilenİslem = input(\"Lütfen yapmak istediğiniz işlem numarasını seçiniz. (1/2/3): \")\n",
        "    if secilenİslem == \"1\":\n",
        "      eserListesi()\n",
        "    elif secilenİslem == \"2\":\n",
        "      eserEkle()\n",
        "    elif secilenİslem == \"3\":\n",
        "      print(\" <<< Programdan çıkış yaptınız. >>> \")\n",
        "      break\n",
        "\n",
        "menu()"
      ],
      "execution_count": 13,
      "outputs": [
        {
          "output_type": "stream",
          "text": [
            ":::: Kütüphane Katalog Otomasyonuna Hoşgeldiniz ::::\n",
            "1 - Katalogda kayıtlı olan eserleri listele.\n",
            "2 - Yeni eser kaydı oluştur.\n",
            "4 - Katalog otomasyonundan çıkış yap.\n",
            "Lütfen yapmak istediğiniz işlem numarasını seçiniz. (1/2/3): 1\n",
            "Hayvan Ciftligi, George Orwell, Can Yayinevi, 2005, 9789750700118\n",
            "\n",
            "Sineklerin Tanrisi, William Golding, Turkiye Is Bankasi Yayinevi, 2014, 9789754582901\n",
            "\n",
            "Gurur ve Onyargi, Jane Austen, Turkiye Is Bankasi Yayinevi, 2006, 9789754587027\n",
            "\n",
            "Ucurtma Avcisi, Khaled Hosseini, Everest Yayinevi, 2010, 9789752891454\n",
            "\n",
            "Kitap Hirsizi, Markus Zusak, Marti Yayinevi, 2014, 9786053480600\n",
            "\n",
            "Yuzyillik Yalnizlik, Gabriel Garcia Marquez, Can Yayinevi, 1999, 9789755101583\n",
            "\n",
            "Ugultulu Tepeler, Emily Jane Bronte, Bordo Siyah Yayinevi, 2004, 9789758688128\n",
            "\n",
            "1 - Katalogda kayıtlı olan eserleri listele.\n",
            "2 - Yeni eser kaydı oluştur.\n",
            "4 - Katalog otomasyonundan çıkış yap.\n",
            "Lütfen yapmak istediğiniz işlem numarasını seçiniz. (1/2/3): 2\n",
            "Lütfen yeni eklenen eserin bilgilerini sırasıyla giriniz.\n",
            "Eser adını giriniz: Bülbülü Öldürmek\n",
            "Yazar adını giriniz: Harper Lee\n",
            "Yayınevi bilgisi giriniz: Sel Yayınevi\n",
            "Basım tarihi bilgisi giriniz: 2019\n",
            "ISBN numarası giriniz: 9786051736938\n",
            " <<< Yeni eser başarılı bir şekilde kaydedildi. >>> \n",
            "1 - Katalogda kayıtlı olan eserleri listele.\n",
            "2 - Yeni eser kaydı oluştur.\n",
            "4 - Katalog otomasyonundan çıkış yap.\n",
            "Lütfen yapmak istediğiniz işlem numarasını seçiniz. (1/2/3): 2\n",
            "Lütfen yeni eklenen eserin bilgilerini sırasıyla giriniz.\n",
            "Eser adını giriniz: Esir Şehrin İnsanları\n",
            "Yazar adını giriniz: Kemal Tahir\n",
            "Yayınevi bilgisi giriniz: İthaki Yayınevi\n",
            "Basım tarihi bilgisi giriniz: 2005\n",
            "ISBN numarası giriniz: 9789752730762\n",
            " <<< Yeni eser başarılı bir şekilde kaydedildi. >>> \n",
            "1 - Katalogda kayıtlı olan eserleri listele.\n",
            "2 - Yeni eser kaydı oluştur.\n",
            "4 - Katalog otomasyonundan çıkış yap.\n",
            "Lütfen yapmak istediğiniz işlem numarasını seçiniz. (1/2/3): 2\n",
            "Lütfen yeni eklenen eserin bilgilerini sırasıyla giriniz.\n",
            "Eser adını giriniz: Babalar ve Oğullar\n",
            "Yazar adını giriniz: İvan Turgenyev\n",
            "Yayınevi bilgisi giriniz: Türkiye İş Bankası Yayınevi\n",
            "Basım tarihi bilgisi giriniz: 2019\n",
            "ISBN numarası giriniz: 9789944885454\n",
            " <<< Yeni eser başarılı bir şekilde kaydedildi. >>> \n",
            "1 - Katalogda kayıtlı olan eserleri listele.\n",
            "2 - Yeni eser kaydı oluştur.\n",
            "4 - Katalog otomasyonundan çıkış yap.\n",
            "Lütfen yapmak istediğiniz işlem numarasını seçiniz. (1/2/3): 1\n",
            "Hayvan Ciftligi, George Orwell, Can Yayinevi, 2005, 9789750700118\n",
            "\n",
            "Sineklerin Tanrisi, William Golding, Turkiye Is Bankasi Yayinevi, 2014, 9789754582901\n",
            "\n",
            "Gurur ve Onyargi, Jane Austen, Turkiye Is Bankasi Yayinevi, 2006, 9789754587027\n",
            "\n",
            "Ucurtma Avcisi, Khaled Hosseini, Everest Yayinevi, 2010, 9789752891454\n",
            "\n",
            "Kitap Hirsizi, Markus Zusak, Marti Yayinevi, 2014, 9786053480600\n",
            "\n",
            "Yuzyillik Yalnizlik, Gabriel Garcia Marquez, Can Yayinevi, 1999, 9789755101583\n",
            "\n",
            "Ugultulu Tepeler, Emily Jane Bronte, Bordo Siyah Yayinevi, 2004, 9789758688128\n",
            "\n",
            "Bülbülü Öldürmek, Harper Lee, Sel Yayınevi, 2019, 9786051736938\n",
            "\n",
            "Esir Şehrin İnsanları, Kemal Tahir, İthaki Yayınevi, 2005, 9789752730762\n",
            "\n",
            "Babalar ve Oğullar, İvan Turgenyev, Türkiye İş Bankası Yayınevi, 2019, 9789944885454\n",
            "\n",
            "1 - Katalogda kayıtlı olan eserleri listele.\n",
            "2 - Yeni eser kaydı oluştur.\n",
            "4 - Katalog otomasyonundan çıkış yap.\n",
            "Lütfen yapmak istediğiniz işlem numarasını seçiniz. (1/2/3): 3\n",
            " <<< Programdan çıkış yaptınız. >>> \n"
          ],
          "name": "stdout"
        }
      ]
    }
  ]
}