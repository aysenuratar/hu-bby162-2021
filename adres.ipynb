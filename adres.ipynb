{
  "nbformat": 4,
  "nbformat_minor": 0,
  "metadata": {
    "colab": {
      "name": "adres.ipynb",
      "provenance": [],
      "mount_file_id": "1UJiBWXOeSRVv_DnJsYwEdeq4hBeOr3Bd",
      "authorship_tag": "ABX9TyPFll6p+hWSqLzfHUsmLLba",
      "include_colab_link": true
    },
    "kernelspec": {
      "name": "python3",
      "display_name": "Python 3"
    },
    "language_info": {
      "name": "python"
    }
  },
  "cells": [
    {
      "cell_type": "markdown",
      "metadata": {
        "id": "view-in-github",
        "colab_type": "text"
      },
      "source": [
        "<a href=\"https://colab.research.google.com/github/aysenuratar/hu-bby162-2021/blob/main/adres.ipynb\" target=\"_parent\"><img src=\"https://colab.research.google.com/assets/colab-badge.svg\" alt=\"Open In Colab\"/></a>"
      ]
    },
    {
      "cell_type": "markdown",
      "metadata": {
        "id": "tBV2JpWPpXpV"
      },
      "source": [
        "Dosya Okuma"
      ]
    },
    {
      "cell_type": "code",
      "metadata": {
        "colab": {
          "base_uri": "https://localhost:8080/"
        },
        "id": "dWx8iXyxordg",
        "outputId": "ef50a7cc-afea-4566-fc12-8af555c55d78"
      },
      "source": [
        "# Google drive dosya bağlantısı\n",
        "\n",
        "adresDosyam = \"/content/drive/MyDrive/Colab Notebooks/HU-BBY162-2021/metin.txt\"\n",
        "\n",
        "f = open(adresDosyam, \"r\")\n",
        "for line in f.readlines():\n",
        "    print(line)\n",
        "\n",
        "f.close()\n"
      ],
      "execution_count": 1,
      "outputs": [
        {
          "output_type": "stream",
          "text": [
            "Ad-Soyad: Ayse Nur Atar\n",
            "\n",
            "e-posta: aysenuratar21@gmail.com\n",
            "\n"
          ],
          "name": "stdout"
        }
      ]
    },
    {
      "cell_type": "markdown",
      "metadata": {
        "id": "ubvGMF2asOyk"
      },
      "source": [
        "Dosya Yazma"
      ]
    },
    {
      "cell_type": "code",
      "metadata": {
        "colab": {
          "base_uri": "https://localhost:8080/"
        },
        "id": "rg-SK_RWsRwa",
        "outputId": "cf2202e0-38a3-44bd-d536-31d7096d8217"
      },
      "source": [
        "# Google drive dosya bağlantısı\n",
        "\n",
        "adresDosyam = \"/content/drive/MyDrive/Colab Notebooks/HU-BBY162-2021/metin.txt\"\n",
        "\n",
        "f = open( adresDosyam, 'w')\n",
        "f.write(\"Ayşe Nur Atar\\n\")\n",
        "f.write(\"aysenuratar21@gmail.com\\n\")\n",
        "f.write(\"ayse090416@gmail.com\\n\")\n",
        "f.close()\n",
        "\n",
        "f = open(adresDosyam, \"r\")\n",
        "for line in f.readlines():\n",
        "  print(line)\n",
        "\n",
        "f.close()"
      ],
      "execution_count": 5,
      "outputs": [
        {
          "output_type": "stream",
          "text": [
            "Ayşe Nur Atar\n",
            "\n",
            "aysenuratar21@gmail.com\n",
            "\n",
            "ayse090416@gmail.com\n",
            "\n"
          ],
          "name": "stdout"
        }
      ]
    }
  ]
}