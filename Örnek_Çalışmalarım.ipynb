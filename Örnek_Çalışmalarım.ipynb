{
  "nbformat": 4,
  "nbformat_minor": 0,
  "metadata": {
    "colab": {
      "name": "Örnek Çalışmalarım.ipynb",
      "provenance": [],
      "collapsed_sections": [],
      "authorship_tag": "ABX9TyOlRLJLwp7hbXVvb9dD0j4/",
      "include_colab_link": true
    },
    "kernelspec": {
      "name": "python3",
      "display_name": "Python 3"
    }
  },
  "cells": [
    {
      "cell_type": "markdown",
      "metadata": {
        "id": "view-in-github",
        "colab_type": "text"
      },
      "source": [
        "<a href=\"https://colab.research.google.com/github/aysenuratar/hu-bby162-2021/blob/main/%C3%96rnek_%C3%87al%C4%B1%C5%9Fmalar%C4%B1m.ipynb\" target=\"_parent\"><img src=\"https://colab.research.google.com/assets/colab-badge.svg\" alt=\"Open In Colab\"/></a>"
      ]
    },
    {
      "cell_type": "markdown",
      "metadata": {
        "id": "MjfAIbMA3-eL"
      },
      "source": [
        "Sayısal Loto Örneği"
      ]
    },
    {
      "cell_type": "code",
      "metadata": {
        "id": "Abkiln4m4SEt",
        "colab": {
          "base_uri": "https://localhost:8080/"
        },
        "outputId": "e78185a8-01c9-4caf-de05-3974d77b3135"
      },
      "source": [
        "from random import randint\n",
        "i = 0\n",
        "j = 0\n",
        "secilenler = [0,0,0,0,0,0]\n",
        "while j < 6:\n",
        "  for rastgele in secilenler:\n",
        "    while i < len(secilenler):\n",
        "      secilen = randint(1, 49)\n",
        "      if secilen not in secilenler:\n",
        "        secilenler[i] = secilen\n",
        "        i+=1\n",
        "    print(sorted(secilenler))\n",
        "    #print(secilenler)\n",
        "    i=0\n",
        "    j+=1"
      ],
      "execution_count": null,
      "outputs": [
        {
          "output_type": "stream",
          "text": [
            "[1, 7, 20, 23, 41, 44]\n",
            "[13, 17, 20, 22, 24, 37]\n",
            "[23, 28, 31, 42, 46, 47]\n",
            "[6, 9, 16, 20, 24, 45]\n",
            "[6, 19, 25, 30, 44, 49]\n",
            "[8, 16, 21, 24, 29, 43]\n"
          ],
          "name": "stdout"
        }
      ]
    },
    {
      "cell_type": "markdown",
      "metadata": {
        "id": "riEC7Igs4HX6"
      },
      "source": [
        "İnput Komutu Örneği"
      ]
    },
    {
      "cell_type": "code",
      "metadata": {
        "colab": {
          "base_uri": "https://localhost:8080/"
        },
        "id": "MzuvhovUXdOn",
        "outputId": "b035ad99-4055-47a0-a4e1-c6c43192781c"
      },
      "source": [
        "deger = input(\"Adınız Soyadınız: \")\n",
        "print(deger)"
      ],
      "execution_count": null,
      "outputs": [
        {
          "output_type": "stream",
          "text": [
            "Adınız Soyadınız: Ayşe Nur Atar\n",
            "Ayşe Nur Atar\n"
          ],
          "name": "stdout"
        }
      ]
    },
    {
      "cell_type": "code",
      "metadata": {
        "colab": {
          "base_uri": "https://localhost:8080/"
        },
        "id": "2_IPvL6oZrUo",
        "outputId": "2decaa40-db30-465f-defb-f6e6d45a0fcf"
      },
      "source": [
        "acikListe = [\"Açık Bilim\", \"Açık Erişim\", \"Açık Veri\", \"Açık Eğitim\", \"Açık Kaynak\"]\n",
        "yeniAcik = input(\"Yeni açıklık kavramını giriniz: \")\n",
        "acikListe.append(yeniAcik)\n",
        "print(acikListe)\n",
        "silinecek = int(input(\"Silinecek olan elemanın index numarası: \"))\n",
        "acikListe[silinecek:silinecek+2] = []\n",
        "print(acikListe)"
      ],
      "execution_count": null,
      "outputs": [
        {
          "output_type": "stream",
          "text": [
            "Yeni açıklık kavramını giriniz: Yeni Kavram\n",
            "['Açık Bilim', 'Açık Erişim', 'Açık Veri', 'Açık Eğitim', 'Açık Kaynak', 'Yeni Kavram']\n",
            "Silinecek olan elemanın index numarası: 2\n",
            "['Açık Bilim', 'Açık Erişim', 'Açık Kaynak', 'Yeni Kavram']\n"
          ],
          "name": "stdout"
        }
      ]
    },
    {
      "cell_type": "markdown",
      "metadata": {
        "id": "Rf5e8pYd4_ZS"
      },
      "source": [
        "Genel Tekrar Örneği"
      ]
    },
    {
      "cell_type": "code",
      "metadata": {
        "colab": {
          "base_uri": "https://localhost:8080/"
        },
        "id": "mfAoyCzudpBq",
        "outputId": "23b83bac-c4cb-427c-c3fa-9305ad5c067b"
      },
      "source": [
        "sozluk = {\n",
        "    \"06\" : \"Ankara\",\n",
        "    \"34\" : \"İstanbul\",\n",
        "    \"75\" : \"Ardahan\",\n",
        "    \"07\" : \"Antalya\",\n",
        "    \"20\" : \"Denizli\",\n",
        "    \"70\" : \"Karaman\",\n",
        "    \"61\" : \"Trabzon\",\n",
        "    \"18\" : \"Çankırı\",\n",
        "    \"01\" : \"Adana\"\n",
        " }\n",
        "print(sozluk.get(\"70\"))\n",
        "print(sozluk[\"70\"])\n",
        "\n",
        "print(sozluk.values())\n",
        "for i in sozluk:\n",
        "  print(sozluk[i])\n",
        "\n",
        "for i in sozluk:\n",
        "  print(i + \" - \" + sozluk[i])"
      ],
      "execution_count": null,
      "outputs": [
        {
          "output_type": "stream",
          "text": [
            "Karaman\n",
            "Karaman\n",
            "dict_values(['Ankara', 'İstanbul', 'Ardahan', 'Antalya', 'Denizli', 'Karaman', 'Trabzon', 'Çankırı', 'Adana'])\n",
            "Ankara\n",
            "İstanbul\n",
            "Ardahan\n",
            "Antalya\n",
            "Denizli\n",
            "Karaman\n",
            "Trabzon\n",
            "Çankırı\n",
            "Adana\n",
            "06 - Ankara\n",
            "34 - İstanbul\n",
            "75 - Ardahan\n",
            "07 - Antalya\n",
            "20 - Denizli\n",
            "70 - Karaman\n",
            "61 - Trabzon\n",
            "18 - Çankırı\n",
            "01 - Adana\n"
          ],
          "name": "stdout"
        }
      ]
    },
    {
      "cell_type": "markdown",
      "metadata": {
        "id": "DYdwypGN5F5S"
      },
      "source": [
        "Fonksiyonlu Adres Defteri Örneği"
      ]
    },
    {
      "cell_type": "code",
      "metadata": {
        "colab": {
          "base_uri": "https://localhost:8080/"
        },
        "id": "VMoh8x8466ln",
        "outputId": "25f4d62c-f9b8-493d-fb31-ef58f3e7f315"
      },
      "source": [
        "#BookMark System\n",
        "\n",
        "adresler = {}\n",
        "\n",
        "def adres_ekle():\n",
        "  webAd = input(\"Web sitesinin adını giriniz: \")\n",
        "  webURL = input(\"Web sitesinin adresini giriniz: \")\n",
        "  adresler[webAd] = webURL\n",
        "\n",
        "adres_ekle()\n",
        "\n",
        "print(adresler)"
      ],
      "execution_count": null,
      "outputs": [
        {
          "output_type": "stream",
          "text": [
            "Web sitesinin adını giriniz: Orçun Madran'ın Web Sitesi\n",
            "Web sitesinin adresini giriniz: https://madran.net/\n",
            "{\"Orçun Madran'ın Web Sitesi\": 'https://madran.net/'}\n"
          ],
          "name": "stdout"
        }
      ]
    },
    {
      "cell_type": "code",
      "metadata": {
        "colab": {
          "base_uri": "https://localhost:8080/"
        },
        "id": "WAsqCar_-kUH",
        "outputId": "146099cf-ca26-4c9e-ab85-21a9e78f4884"
      },
      "source": [
        "adresler = {}\n",
        "\n",
        "def adres_ekle():\n",
        "  webAd = input(\"Web sitesinin adını giriniz: \")\n",
        "  webURL = input(\"Web sitesinin adresini giriniz: \")\n",
        "  adresler[webAd] = webURL\n",
        "  print(adresler)\n",
        "\n",
        "def adres_ara():\n",
        "    webAra = input(\"Adresini görmek istediğiniz site: \")\n",
        "    if webAra in adresler.keys():\n",
        "      print(\"Bu adres var!\")\n",
        "    else:\n",
        "      print(\"Bu adres yok!\")\n",
        "\n",
        "adres_ekle()\n",
        "adres_ara()"
      ],
      "execution_count": null,
      "outputs": [
        {
          "output_type": "stream",
          "text": [
            "Web sitesinin adını giriniz: Orçun Madran\n",
            "Web sitesinin adresini giriniz: https://madran.net/\n",
            "{'Orçun Madran': 'https://madran.net/'}\n",
            "Adresini görmek istediğiniz site: Orçun Madran\n",
            "Bu adres var!\n"
          ],
          "name": "stdout"
        }
      ]
    },
    {
      "cell_type": "code",
      "metadata": {
        "colab": {
          "base_uri": "https://localhost:8080/"
        },
        "id": "7Q1fg36_Iy38",
        "outputId": "9008b9a9-f432-49d0-f96d-7255d3a7e0c0"
      },
      "source": [
        "adresler = {}\n",
        "\n",
        "print(\"--- Adres Defterine Hoş Geldiniz ---\")\n",
        "\n",
        "# Adres ekleme foksiyonu\n",
        "def adres_ekle():\n",
        "  webAd = input(\"Web sitesinin adını giriniz: \")\n",
        "  webURL = input(\"Web sitesinin adresini giriniz: \")\n",
        "  adresler[webAd] = webURL\n",
        "  print(adresler)\n",
        "  menu()\n",
        "\n",
        "# Adres arama foksiyonu\n",
        "def adres_ara():\n",
        "  webAra = input(\"Adresini görmek istediğiniz site: \")\n",
        "  if webAra in adresler.keys():\n",
        "    print(webAra + \" :\" +adresler[webAra])\n",
        "  else:\n",
        "    print(\"Bu adres yok!\")\n",
        "  menu()\n",
        "\n",
        "def menu():\n",
        "  print(\"1 - Adres ekle.\")\n",
        "  print(\"2 - Adres ara.\")\n",
        "  secilen = input(\"Hangi işlemi yapmak istiyorsunuz(1/2): \")\n",
        "  if secilen == \"1\":\n",
        "    adres_ekle()\n",
        "  elif secilen == \"2\":\n",
        "    adres_ara()\n",
        "  else:\n",
        "    print(\"Defter kapandı..!\")\n",
        "\n",
        "menu()"
      ],
      "execution_count": null,
      "outputs": [
        {
          "output_type": "stream",
          "text": [
            "--- Adres Defterine Hoş Geldiniz ---\n",
            "1 - Adres ekle.\n",
            "2 - Adres ara.\n",
            "Hangi işlemi yapmak istiyorsunuz(1/2): 2\n",
            "Adresini görmek istediğiniz site: Madran\n",
            "Bu adres yok!\n",
            "1 - Adres ekle.\n",
            "2 - Adres ara.\n",
            "Hangi işlemi yapmak istiyorsunuz(1/2): 1\n",
            "Web sitesinin adını giriniz: Orçun Madran\n",
            "Web sitesinin adresini giriniz: https://madran.net/\n",
            "{'Orçun Madran': 'https://madran.net/'}\n",
            "1 - Adres ekle.\n",
            "2 - Adres ara.\n",
            "Hangi işlemi yapmak istiyorsunuz(1/2): 2\n",
            "Adresini görmek istediğiniz site: Orçun Madran\n",
            "Orçun Madran :https://madran.net/\n",
            "1 - Adres ekle.\n",
            "2 - Adres ara.\n",
            "Hangi işlemi yapmak istiyorsunuz(1/2): bcedf\n",
            "Defter kapandı..!\n"
          ],
          "name": "stdout"
        }
      ]
    },
    {
      "cell_type": "markdown",
      "metadata": {
        "id": "2qCCh7wx5cCi"
      },
      "source": [
        "Fonksiyonsuz Kelime Tahmin Oyunu Örneği"
      ]
    },
    {
      "cell_type": "code",
      "metadata": {
        "colab": {
          "base_uri": "https://localhost:8080/"
        },
        "id": "-7ielCJQkXw1",
        "outputId": "bed2e04c-1761-48c7-90b8-d437073a637f"
      },
      "source": [
        "# Kelime Tahmin Oyunu\n",
        "\n",
        "from random import choice\n",
        "\n",
        "adamCan = 3\n",
        "kelimeler = [\"bisiklet\", \"triatlon\", \"yüzme\", \"koşu\"]\n",
        "secilenKelime = choice(kelimeler)\n",
        "print(kelimeler)\n",
        "#print(secilenKelime)\n",
        "\n",
        "while adamCan > 0:\n",
        "  tahmin = input(\"Kelimeyi tahmin ediniz: \")\n",
        "  if tahmin == secilenKelime:\n",
        "    print(\"Tebrikler!\")\n",
        "    break\n",
        "  else:\n",
        "    adamCan -= 1\n",
        "    print(str(adamCan) + \" canınız kaldı\")"
      ],
      "execution_count": null,
      "outputs": [
        {
          "output_type": "stream",
          "text": [
            "['bisiklet', 'triatlon', 'yüzme', 'koşu']\n",
            "Kelimeyi tahmin ediniz: koşu\n",
            "2 canınız kaldı\n",
            "Kelimeyi tahmin ediniz: triatlon\n",
            "Tebrikler!\n"
          ],
          "name": "stdout"
        }
      ]
    },
    {
      "cell_type": "markdown",
      "metadata": {
        "id": "faaMPVA_5nDH"
      },
      "source": [
        "Sınıflar ve Nesneler Üzerine Bir Örnek"
      ]
    },
    {
      "cell_type": "code",
      "metadata": {
        "colab": {
          "base_uri": "https://localhost:8080/"
        },
        "id": "2rUaRWFN5nl9",
        "outputId": "f80bc1c6-049f-49c5-c9a4-1be45225853d"
      },
      "source": [
        "# Fonksiyonlu Sayısal Loto Örneği\n",
        "\n",
        "from random import randint\n",
        "\n",
        "class SayisalLoto: \n",
        "\n",
        "    rakam = 6\n",
        "    satir = 6\n",
        "    baslangic = 1\n",
        "    bitis = 49\n",
        "\n",
        "    def oyna(self):\n",
        "      i = 0\n",
        "      secilenler = []\n",
        "      for liste in range(self.rakam):\n",
        "        secilenler.append(0)\n",
        "      for olustur in range(self.satir):\n",
        "          while i < len(secilenler):\n",
        "              secilen = randint(self.baslangic, self.bitis)\n",
        "              if secilen not in secilenler:\n",
        "                  secilenler[i] = secilen\n",
        "                  i+=1\n",
        "          print(sorted(secilenler))\n",
        "          i=0\n",
        "\n",
        "benimLotom = SayisalLoto()\n",
        "benimLotom.bitis = 100\n",
        "benimLotom.oyna()\n",
        "\n",
        "print(\"-------\")\n",
        "\n",
        "yeniLoto = SayisalLoto()\n",
        "yeniLoto.rakam = 3\n",
        "yeniLoto.satir = 3\n",
        "yeniLoto.oyna()"
      ],
      "execution_count": null,
      "outputs": [
        {
          "output_type": "stream",
          "text": [
            "[5, 46, 82, 90, 94, 96]\n",
            "[18, 21, 52, 55, 80, 93]\n",
            "[15, 40, 42, 53, 61, 100]\n",
            "[12, 21, 30, 51, 62, 64]\n",
            "[19, 49, 58, 68, 87, 90]\n",
            "[35, 37, 43, 44, 83, 96]\n",
            "-------\n",
            "[5, 20, 40]\n",
            "[16, 34, 48]\n",
            "[3, 11, 15]\n"
          ],
          "name": "stdout"
        }
      ]
    }
  ]
}